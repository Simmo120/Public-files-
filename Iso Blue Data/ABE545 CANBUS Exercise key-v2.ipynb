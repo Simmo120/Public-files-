{
 "cells": [
  {
   "cell_type": "code",
   "execution_count": 1,
   "metadata": {},
   "outputs": [],
   "source": [
    "## Data processing imports\n",
    "import numpy as np\n",
    "import pandas as pd\n",
    "import matplotlib.pyplot as plt\n",
    "import matplotlib.dates as dates\n",
    "\n",
    "## Data retrieval imports\n",
    "import psycopg2\n",
    "import sys"
   ]
  },
  {
   "cell_type": "code",
   "execution_count": 2,
   "metadata": {},
   "outputs": [],
   "source": [
    "## Make sure you have pytables installed before running this notebook. \n",
    "## If you don't have it, just run \"python3 -m pip install tables\"."
   ]
  },
  {
   "cell_type": "code",
   "execution_count": 3,
   "metadata": {},
   "outputs": [],
   "source": [
    "## Declare raw log path and processed output path\n",
    "\n",
    "H5_PATH = '/home/jovyan/data/Documents/grad-school/abe545-canbus-lab/can/'\n",
    "EXCEL_CSV_PATH = '/home/jovyan/data/Documents/grad-school/abe545-canbus-lab/excel-csv/'\n",
    "\n",
    "## Declare event, machine, and date from log\n",
    "\n",
    "EVENT = 'asm345'\n",
    "MACHINE_ID = 'j320d'\n",
    "DATE = '09112021'\n",
    "\n",
    "## Declare experiment start and end time (UTC Time)\n",
    "\n",
    "START_TIME = '2021-09-11 00:06:57.0+00' #10:06:57\n",
    "END_TIME = '2021-09-12 00:10:25.0+00'   #10:10:25\n",
    "\n",
    "H5_NAME = '-'.join([EVENT, MACHINE_ID, DATE, 'tra.h5'])\n",
    "EXCEL_CSV_NAME = '-'.join([EVENT, MACHINE_ID, DATE, 'tra-excel.csv'])\n",
    "\n",
    "SINGLE = True"
   ]
  },
  {
   "cell_type": "code",
   "execution_count": 4,
   "metadata": {},
   "outputs": [],
   "source": [
    "## Retrieve data from ISOBlue Database\n",
    "\n",
    "## Define connection parameters\n",
    "db_host = \"172.16.0.9\" ## apalis-12 wireguard IP\n",
    "#db_host = \"192.168.10.1\" ## apalis-12 wifi IP\n",
    "db = \"casemgnm330-wettshurack-corn21\"\n",
    "\n",
    "param_dic = {\n",
    "    \"host\" : db_host,\n",
    "    \"database\" : db,\n",
    "    \"user\" : \"avena\",\n",
    "    \"password\" : \"password\"\n",
    "}"
   ]
  },
  {
   "cell_type": "code",
   "execution_count": 5,
   "metadata": {},
   "outputs": [],
   "source": [
    "## Define functions to connect and to retrieve a dataframe from a SQL query.\n",
    "\n",
    "def connect(params_dic):\n",
    "    \"\"\" Connect to the Postgres database server \"\"\"\n",
    "    conn = None\n",
    "    try:\n",
    "        # connect to the PostgreSQL server\n",
    "        print(f'Connecting to {params_dic[\"database\"]} postgres database...')\n",
    "        conn = psycopg2.connect(**params_dic)\n",
    "    except (Exception, psycopg2.DatabaseError) as error:\n",
    "        print(error)\n",
    "        sys.exit(1) \n",
    "    \n",
    "    print(\"Connection successful\")\n",
    "    return conn\n",
    "\n",
    "## Get query and store as dataframe\n",
    "\n",
    "def postgresql_to_dataframe(conn, select_query, column_names):\n",
    "    \"\"\"\n",
    "    Tranform a SELECT query into a pandas dataframe\n",
    "    \"\"\"\n",
    "    cursor = conn.cursor()\n",
    "    try:\n",
    "        cursor.execute(select_query)\n",
    "        \n",
    "    except (Exception, psycopg2.DatabaseError) as error:\n",
    "        print(\"Error: %s\" % error)\n",
    "        cursor.close()\n",
    "        return 1\n",
    "    \n",
    "    # Naturally we get a list of tuples\n",
    "    tuples = cursor.fetchall()\n",
    "    cursor.close()\n",
    "    conn.close()\n",
    "    # We just need to turn it into a pandas dataframe\n",
    "    df = pd.DataFrame(tuples, columns=column_names)\n",
    "    return df"
   ]
  },
  {
   "cell_type": "code",
   "execution_count": 6,
   "metadata": {},
   "outputs": [
    {
     "name": "stdout",
     "output_type": "stream",
     "text": [
      "Connecting to avena-apalis-12 postgres database...\n",
      "Connection successful\n"
     ]
    }
   ],
   "source": [
    "## Connect and get the CAN data for the specified interval\n",
    "conn = connect(param_dic)\n",
    "\n",
    "column_names = [\"time\", \"can_interface\", \"can_id\", \"can_data\"]\n",
    "#column_names = [\"time\"]\n",
    "query = f\"\"\"SELECT time, can_interface, can_id, can_data \n",
    "           FROM can\n",
    "           WHERE \"time\" > '{START_TIME}' AND \"time\" < '{END_TIME}'\n",
    "        \"\"\"\n",
    "\n",
    "can_log = postgresql_to_dataframe(conn, query, column_names)"
   ]
  },
  {
   "cell_type": "code",
   "execution_count": 7,
   "metadata": {},
   "outputs": [],
   "source": [
    "dtypes = {\n",
    "    'time': str, \\\n",
    "    'can_interface': str, \\\n",
    "    'can_id': str, \\\n",
    "    'can_data': str}"
   ]
  },
  {
   "cell_type": "code",
   "execution_count": 8,
   "metadata": {},
   "outputs": [],
   "source": [
    "cols = list(dtypes.keys())"
   ]
  },
  {
   "cell_type": "code",
   "execution_count": 9,
   "metadata": {},
   "outputs": [],
   "source": [
    "datetime_col = [cols[0]]"
   ]
  },
  {
   "cell_type": "code",
   "execution_count": 10,
   "metadata": {},
   "outputs": [
    {
     "data": {
      "text/html": [
       "<div>\n",
       "<style scoped>\n",
       "    .dataframe tbody tr th:only-of-type {\n",
       "        vertical-align: middle;\n",
       "    }\n",
       "\n",
       "    .dataframe tbody tr th {\n",
       "        vertical-align: top;\n",
       "    }\n",
       "\n",
       "    .dataframe thead th {\n",
       "        text-align: right;\n",
       "    }\n",
       "</style>\n",
       "<table border=\"1\" class=\"dataframe\">\n",
       "  <thead>\n",
       "    <tr style=\"text-align: right;\">\n",
       "      <th></th>\n",
       "      <th>time</th>\n",
       "      <th>can_interface</th>\n",
       "      <th>can_id</th>\n",
       "      <th>can_data</th>\n",
       "    </tr>\n",
       "  </thead>\n",
       "  <tbody>\n",
       "    <tr>\n",
       "      <th>0</th>\n",
       "      <td>2023-04-12 14:10:24.995672+00:00</td>\n",
       "      <td>can0</td>\n",
       "      <td>0CFDD6D5</td>\n",
       "      <td>01000100FFFFFFFF</td>\n",
       "    </tr>\n",
       "    <tr>\n",
       "      <th>1</th>\n",
       "      <td>2023-04-12 14:10:24.990069+00:00</td>\n",
       "      <td>can0</td>\n",
       "      <td>18FEEF00</td>\n",
       "      <td>34FFFF00FFFFFFFF</td>\n",
       "    </tr>\n",
       "    <tr>\n",
       "      <th>2</th>\n",
       "      <td>2023-04-12 14:10:24.985513+00:00</td>\n",
       "      <td>can0</td>\n",
       "      <td>0CFDD8C9</td>\n",
       "      <td>01000100FFFFFFFF</td>\n",
       "    </tr>\n",
       "    <tr>\n",
       "      <th>3</th>\n",
       "      <td>2023-04-12 14:10:24.980669+00:00</td>\n",
       "      <td>can0</td>\n",
       "      <td>18FEDF00</td>\n",
       "      <td>FF8025FFFFFFFFFF</td>\n",
       "    </tr>\n",
       "    <tr>\n",
       "      <th>4</th>\n",
       "      <td>2023-04-12 14:10:24.980080+00:00</td>\n",
       "      <td>can0</td>\n",
       "      <td>0CF00400</td>\n",
       "      <td>F0FF8C6425FFFCFF</td>\n",
       "    </tr>\n",
       "  </tbody>\n",
       "</table>\n",
       "</div>"
      ],
      "text/plain": [
       "                              time can_interface    can_id          can_data\n",
       "0 2023-04-12 14:10:24.995672+00:00          can0  0CFDD6D5  01000100FFFFFFFF\n",
       "1 2023-04-12 14:10:24.990069+00:00          can0  18FEEF00  34FFFF00FFFFFFFF\n",
       "2 2023-04-12 14:10:24.985513+00:00          can0  0CFDD8C9  01000100FFFFFFFF\n",
       "3 2023-04-12 14:10:24.980669+00:00          can0  18FEDF00  FF8025FFFFFFFFFF\n",
       "4 2023-04-12 14:10:24.980080+00:00          can0  0CF00400  F0FF8C6425FFFCFF"
      ]
     },
     "execution_count": 10,
     "metadata": {},
     "output_type": "execute_result"
    }
   ],
   "source": [
    "can_log.head()"
   ]
  },
  {
   "cell_type": "code",
   "execution_count": 11,
   "metadata": {},
   "outputs": [
    {
     "data": {
      "text/plain": [
       "pandas._libs.tslibs.timestamps.Timestamp"
      ]
     },
     "execution_count": 11,
     "metadata": {},
     "output_type": "execute_result"
    }
   ],
   "source": [
    "type(can_log['time'][0])"
   ]
  },
  {
   "cell_type": "code",
   "execution_count": 12,
   "metadata": {},
   "outputs": [
    {
     "name": "stdout",
     "output_type": "stream",
     "text": [
      "75747\n"
     ]
    }
   ],
   "source": [
    "print(len(can_log))"
   ]
  },
  {
   "cell_type": "code",
   "execution_count": 13,
   "metadata": {},
   "outputs": [],
   "source": [
    "# Discard rows when `ts` is nan\n",
    "can_log.dropna(subset=['time'], inplace=True)"
   ]
  },
  {
   "cell_type": "code",
   "execution_count": 14,
   "metadata": {},
   "outputs": [
    {
     "data": {
      "text/plain": [
       "1681308624.990069"
      ]
     },
     "execution_count": 14,
     "metadata": {},
     "output_type": "execute_result"
    }
   ],
   "source": [
    "can_log['time'][1].timestamp()"
   ]
  },
  {
   "cell_type": "code",
   "execution_count": 15,
   "metadata": {},
   "outputs": [],
   "source": [
    "# Convert UTC timestamp to local time zone\n",
    "can_log['ts_corr'] = can_log['time'].dt.tz_convert('America/New_York').dt.tz_localize(None)"
   ]
  },
  {
   "cell_type": "code",
   "execution_count": 16,
   "metadata": {},
   "outputs": [
    {
     "data": {
      "text/html": [
       "<div>\n",
       "<style scoped>\n",
       "    .dataframe tbody tr th:only-of-type {\n",
       "        vertical-align: middle;\n",
       "    }\n",
       "\n",
       "    .dataframe tbody tr th {\n",
       "        vertical-align: top;\n",
       "    }\n",
       "\n",
       "    .dataframe thead th {\n",
       "        text-align: right;\n",
       "    }\n",
       "</style>\n",
       "<table border=\"1\" class=\"dataframe\">\n",
       "  <thead>\n",
       "    <tr style=\"text-align: right;\">\n",
       "      <th></th>\n",
       "      <th>time</th>\n",
       "      <th>can_interface</th>\n",
       "      <th>can_id</th>\n",
       "      <th>can_data</th>\n",
       "      <th>ts_corr</th>\n",
       "    </tr>\n",
       "  </thead>\n",
       "  <tbody>\n",
       "    <tr>\n",
       "      <th>0</th>\n",
       "      <td>2023-04-12 14:10:24.995672+00:00</td>\n",
       "      <td>can0</td>\n",
       "      <td>0CFDD6D5</td>\n",
       "      <td>01000100FFFFFFFF</td>\n",
       "      <td>2023-04-12 10:10:24.995672</td>\n",
       "    </tr>\n",
       "    <tr>\n",
       "      <th>1</th>\n",
       "      <td>2023-04-12 14:10:24.990069+00:00</td>\n",
       "      <td>can0</td>\n",
       "      <td>18FEEF00</td>\n",
       "      <td>34FFFF00FFFFFFFF</td>\n",
       "      <td>2023-04-12 10:10:24.990069</td>\n",
       "    </tr>\n",
       "    <tr>\n",
       "      <th>2</th>\n",
       "      <td>2023-04-12 14:10:24.985513+00:00</td>\n",
       "      <td>can0</td>\n",
       "      <td>0CFDD8C9</td>\n",
       "      <td>01000100FFFFFFFF</td>\n",
       "      <td>2023-04-12 10:10:24.985513</td>\n",
       "    </tr>\n",
       "    <tr>\n",
       "      <th>3</th>\n",
       "      <td>2023-04-12 14:10:24.980669+00:00</td>\n",
       "      <td>can0</td>\n",
       "      <td>18FEDF00</td>\n",
       "      <td>FF8025FFFFFFFFFF</td>\n",
       "      <td>2023-04-12 10:10:24.980669</td>\n",
       "    </tr>\n",
       "    <tr>\n",
       "      <th>4</th>\n",
       "      <td>2023-04-12 14:10:24.980080+00:00</td>\n",
       "      <td>can0</td>\n",
       "      <td>0CF00400</td>\n",
       "      <td>F0FF8C6425FFFCFF</td>\n",
       "      <td>2023-04-12 10:10:24.980080</td>\n",
       "    </tr>\n",
       "  </tbody>\n",
       "</table>\n",
       "</div>"
      ],
      "text/plain": [
       "                              time can_interface    can_id          can_data  \\\n",
       "0 2023-04-12 14:10:24.995672+00:00          can0  0CFDD6D5  01000100FFFFFFFF   \n",
       "1 2023-04-12 14:10:24.990069+00:00          can0  18FEEF00  34FFFF00FFFFFFFF   \n",
       "2 2023-04-12 14:10:24.985513+00:00          can0  0CFDD8C9  01000100FFFFFFFF   \n",
       "3 2023-04-12 14:10:24.980669+00:00          can0  18FEDF00  FF8025FFFFFFFFFF   \n",
       "4 2023-04-12 14:10:24.980080+00:00          can0  0CF00400  F0FF8C6425FFFCFF   \n",
       "\n",
       "                     ts_corr  \n",
       "0 2023-04-12 10:10:24.995672  \n",
       "1 2023-04-12 10:10:24.990069  \n",
       "2 2023-04-12 10:10:24.985513  \n",
       "3 2023-04-12 10:10:24.980669  \n",
       "4 2023-04-12 10:10:24.980080  "
      ]
     },
     "execution_count": 16,
     "metadata": {},
     "output_type": "execute_result"
    }
   ],
   "source": [
    "can_log.head()"
   ]
  },
  {
   "cell_type": "code",
   "execution_count": 17,
   "metadata": {},
   "outputs": [],
   "source": [
    "# Assign timezone corrected timestamps as indices\n",
    "can_log = can_log.set_index('ts_corr')\n",
    "can_log = can_log.drop(columns=['time', 'can_interface'])\n",
    "idx = can_log.index\n",
    "idx.rename('ts', inplace=True)\n",
    "can_log.rename(columns={'can_data' : 'payload'}, inplace=True)"
   ]
  },
  {
   "cell_type": "code",
   "execution_count": 18,
   "metadata": {},
   "outputs": [
    {
     "data": {
      "text/html": [
       "<div>\n",
       "<style scoped>\n",
       "    .dataframe tbody tr th:only-of-type {\n",
       "        vertical-align: middle;\n",
       "    }\n",
       "\n",
       "    .dataframe tbody tr th {\n",
       "        vertical-align: top;\n",
       "    }\n",
       "\n",
       "    .dataframe thead th {\n",
       "        text-align: right;\n",
       "    }\n",
       "</style>\n",
       "<table border=\"1\" class=\"dataframe\">\n",
       "  <thead>\n",
       "    <tr style=\"text-align: right;\">\n",
       "      <th></th>\n",
       "      <th>can_id</th>\n",
       "      <th>payload</th>\n",
       "    </tr>\n",
       "    <tr>\n",
       "      <th>ts</th>\n",
       "      <th></th>\n",
       "      <th></th>\n",
       "    </tr>\n",
       "  </thead>\n",
       "  <tbody>\n",
       "    <tr>\n",
       "      <th>2023-04-12 10:10:24.995672</th>\n",
       "      <td>0CFDD6D5</td>\n",
       "      <td>01000100FFFFFFFF</td>\n",
       "    </tr>\n",
       "    <tr>\n",
       "      <th>2023-04-12 10:10:24.990069</th>\n",
       "      <td>18FEEF00</td>\n",
       "      <td>34FFFF00FFFFFFFF</td>\n",
       "    </tr>\n",
       "    <tr>\n",
       "      <th>2023-04-12 10:10:24.985513</th>\n",
       "      <td>0CFDD8C9</td>\n",
       "      <td>01000100FFFFFFFF</td>\n",
       "    </tr>\n",
       "    <tr>\n",
       "      <th>2023-04-12 10:10:24.980669</th>\n",
       "      <td>18FEDF00</td>\n",
       "      <td>FF8025FFFFFFFFFF</td>\n",
       "    </tr>\n",
       "    <tr>\n",
       "      <th>2023-04-12 10:10:24.980080</th>\n",
       "      <td>0CF00400</td>\n",
       "      <td>F0FF8C6425FFFCFF</td>\n",
       "    </tr>\n",
       "  </tbody>\n",
       "</table>\n",
       "</div>"
      ],
      "text/plain": [
       "                              can_id           payload\n",
       "ts                                                    \n",
       "2023-04-12 10:10:24.995672  0CFDD6D5  01000100FFFFFFFF\n",
       "2023-04-12 10:10:24.990069  18FEEF00  34FFFF00FFFFFFFF\n",
       "2023-04-12 10:10:24.985513  0CFDD8C9  01000100FFFFFFFF\n",
       "2023-04-12 10:10:24.980669  18FEDF00  FF8025FFFFFFFFFF\n",
       "2023-04-12 10:10:24.980080  0CF00400  F0FF8C6425FFFCFF"
      ]
     },
     "execution_count": 18,
     "metadata": {},
     "output_type": "execute_result"
    }
   ],
   "source": [
    "can_log.head()"
   ]
  },
  {
   "cell_type": "code",
   "execution_count": 19,
   "metadata": {},
   "outputs": [],
   "source": [
    "# ISOBUS message masks\n",
    "MASK_2_BIT = ((1 << 2) - 1)\n",
    "MASK_3_BIT = ((1 << 3) - 1)\n",
    "MASK_8_BIT = ((1 << 8) - 1)\n",
    "\n",
    "def parse_canid(can_id):\n",
    "    # J1939 header info:\n",
    "    # http://www.ni.com/example/31215/en/\n",
    "    # http://tucrrc.utulsa.edu/J1939_files/HeaderStructure.jpg\n",
    "    if can_id is None:\n",
    "        return [-1] * 4\n",
    "    \n",
    "    header = int(can_id, 16)\n",
    "\n",
    "    sa = header & MASK_8_BIT\n",
    "    header >>= 8\n",
    "    pdu_ps = header & MASK_8_BIT\n",
    "    header >>= 8\n",
    "    pdu_pf = header & MASK_8_BIT\n",
    "    header >>= 8\n",
    "    res_dp = header & MASK_2_BIT\n",
    "    header >>= 2\n",
    "    priority = header & MASK_3_BIT\n",
    "\n",
    "    pgn = res_dp\n",
    "    pgn <<= 8\n",
    "    pgn |= pdu_pf\n",
    "    pgn <<= 8\n",
    "    if pdu_pf >= 240:\n",
    "        # pdu format 2 - broadcast message. PDU PS is an extension of\n",
    "        # the identifier\n",
    "        pgn |= pdu_ps\n",
    "        da = 255\n",
    "    else:\n",
    "        da = pdu_ps\n",
    "        \n",
    "    return [pgn, sa, da, priority]"
   ]
  },
  {
   "cell_type": "code",
   "execution_count": 20,
   "metadata": {},
   "outputs": [
    {
     "data": {
      "text/html": [
       "<div>\n",
       "<style scoped>\n",
       "    .dataframe tbody tr th:only-of-type {\n",
       "        vertical-align: middle;\n",
       "    }\n",
       "\n",
       "    .dataframe tbody tr th {\n",
       "        vertical-align: top;\n",
       "    }\n",
       "\n",
       "    .dataframe thead th {\n",
       "        text-align: right;\n",
       "    }\n",
       "</style>\n",
       "<table border=\"1\" class=\"dataframe\">\n",
       "  <thead>\n",
       "    <tr style=\"text-align: right;\">\n",
       "      <th></th>\n",
       "      <th>can_id</th>\n",
       "      <th>payload</th>\n",
       "      <th>pgn</th>\n",
       "      <th>sa</th>\n",
       "      <th>da</th>\n",
       "      <th>pri</th>\n",
       "    </tr>\n",
       "    <tr>\n",
       "      <th>ts</th>\n",
       "      <th></th>\n",
       "      <th></th>\n",
       "      <th></th>\n",
       "      <th></th>\n",
       "      <th></th>\n",
       "      <th></th>\n",
       "    </tr>\n",
       "  </thead>\n",
       "  <tbody>\n",
       "    <tr>\n",
       "      <th>2023-04-12 10:10:24.995672</th>\n",
       "      <td>0CFDD6D5</td>\n",
       "      <td>01000100FFFFFFFF</td>\n",
       "      <td>NaN</td>\n",
       "      <td>NaN</td>\n",
       "      <td>NaN</td>\n",
       "      <td>NaN</td>\n",
       "    </tr>\n",
       "    <tr>\n",
       "      <th>2023-04-12 10:10:24.990069</th>\n",
       "      <td>18FEEF00</td>\n",
       "      <td>34FFFF00FFFFFFFF</td>\n",
       "      <td>NaN</td>\n",
       "      <td>NaN</td>\n",
       "      <td>NaN</td>\n",
       "      <td>NaN</td>\n",
       "    </tr>\n",
       "    <tr>\n",
       "      <th>2023-04-12 10:10:24.985513</th>\n",
       "      <td>0CFDD8C9</td>\n",
       "      <td>01000100FFFFFFFF</td>\n",
       "      <td>NaN</td>\n",
       "      <td>NaN</td>\n",
       "      <td>NaN</td>\n",
       "      <td>NaN</td>\n",
       "    </tr>\n",
       "    <tr>\n",
       "      <th>2023-04-12 10:10:24.980669</th>\n",
       "      <td>18FEDF00</td>\n",
       "      <td>FF8025FFFFFFFFFF</td>\n",
       "      <td>NaN</td>\n",
       "      <td>NaN</td>\n",
       "      <td>NaN</td>\n",
       "      <td>NaN</td>\n",
       "    </tr>\n",
       "    <tr>\n",
       "      <th>2023-04-12 10:10:24.980080</th>\n",
       "      <td>0CF00400</td>\n",
       "      <td>F0FF8C6425FFFCFF</td>\n",
       "      <td>NaN</td>\n",
       "      <td>NaN</td>\n",
       "      <td>NaN</td>\n",
       "      <td>NaN</td>\n",
       "    </tr>\n",
       "  </tbody>\n",
       "</table>\n",
       "</div>"
      ],
      "text/plain": [
       "                              can_id           payload  pgn  sa  da  pri\n",
       "ts                                                                      \n",
       "2023-04-12 10:10:24.995672  0CFDD6D5  01000100FFFFFFFF  NaN NaN NaN  NaN\n",
       "2023-04-12 10:10:24.990069  18FEEF00  34FFFF00FFFFFFFF  NaN NaN NaN  NaN\n",
       "2023-04-12 10:10:24.985513  0CFDD8C9  01000100FFFFFFFF  NaN NaN NaN  NaN\n",
       "2023-04-12 10:10:24.980669  18FEDF00  FF8025FFFFFFFFFF  NaN NaN NaN  NaN\n",
       "2023-04-12 10:10:24.980080  0CF00400  F0FF8C6425FFFCFF  NaN NaN NaN  NaN"
      ]
     },
     "execution_count": 20,
     "metadata": {},
     "output_type": "execute_result"
    }
   ],
   "source": [
    "can_log[['pgn', 'sa', 'da', 'pri']] = pd.DataFrame([[np.nan, np.nan, np.nan, np.nan]], index=can_log.index)\n",
    "can_log.head()"
   ]
  },
  {
   "cell_type": "code",
   "execution_count": 21,
   "metadata": {},
   "outputs": [],
   "source": [
    "# Drop dulicated timestamps (TODO: investigate why)\n",
    "can_log_f = can_log[~can_log.index.duplicated()]"
   ]
  },
  {
   "cell_type": "code",
   "execution_count": 22,
   "metadata": {},
   "outputs": [
    {
     "name": "stderr",
     "output_type": "stream",
     "text": [
      "/tmp/ipykernel_827/1195933580.py:1: SettingWithCopyWarning: \n",
      "A value is trying to be set on a copy of a slice from a DataFrame.\n",
      "Try using .loc[row_indexer,col_indexer] = value instead\n",
      "\n",
      "See the caveats in the documentation: https://pandas.pydata.org/pandas-docs/stable/user_guide/indexing.html#returning-a-view-versus-a-copy\n",
      "  can_log_f.loc[:, ['pgn', 'sa', 'da', 'pri']] = \\\n"
     ]
    }
   ],
   "source": [
    "can_log_f.loc[:, ['pgn', 'sa', 'da', 'pri']] = \\\n",
    "    np.reshape(list(can_log_f['can_id'].apply(lambda x: parse_canid(x)).values), (len(can_log_f),4))"
   ]
  },
  {
   "cell_type": "code",
   "execution_count": 23,
   "metadata": {},
   "outputs": [
    {
     "data": {
      "text/html": [
       "<div>\n",
       "<style scoped>\n",
       "    .dataframe tbody tr th:only-of-type {\n",
       "        vertical-align: middle;\n",
       "    }\n",
       "\n",
       "    .dataframe tbody tr th {\n",
       "        vertical-align: top;\n",
       "    }\n",
       "\n",
       "    .dataframe thead th {\n",
       "        text-align: right;\n",
       "    }\n",
       "</style>\n",
       "<table border=\"1\" class=\"dataframe\">\n",
       "  <thead>\n",
       "    <tr style=\"text-align: right;\">\n",
       "      <th></th>\n",
       "      <th>can_id</th>\n",
       "      <th>payload</th>\n",
       "      <th>pgn</th>\n",
       "      <th>sa</th>\n",
       "      <th>da</th>\n",
       "      <th>pri</th>\n",
       "    </tr>\n",
       "    <tr>\n",
       "      <th>ts</th>\n",
       "      <th></th>\n",
       "      <th></th>\n",
       "      <th></th>\n",
       "      <th></th>\n",
       "      <th></th>\n",
       "      <th></th>\n",
       "    </tr>\n",
       "  </thead>\n",
       "  <tbody>\n",
       "    <tr>\n",
       "      <th>2023-04-12 10:10:24.995672</th>\n",
       "      <td>0CFDD6D5</td>\n",
       "      <td>01000100FFFFFFFF</td>\n",
       "      <td>64982</td>\n",
       "      <td>213</td>\n",
       "      <td>255</td>\n",
       "      <td>3</td>\n",
       "    </tr>\n",
       "    <tr>\n",
       "      <th>2023-04-12 10:10:24.990069</th>\n",
       "      <td>18FEEF00</td>\n",
       "      <td>34FFFF00FFFFFFFF</td>\n",
       "      <td>65263</td>\n",
       "      <td>0</td>\n",
       "      <td>255</td>\n",
       "      <td>6</td>\n",
       "    </tr>\n",
       "    <tr>\n",
       "      <th>2023-04-12 10:10:24.985513</th>\n",
       "      <td>0CFDD8C9</td>\n",
       "      <td>01000100FFFFFFFF</td>\n",
       "      <td>64984</td>\n",
       "      <td>201</td>\n",
       "      <td>255</td>\n",
       "      <td>3</td>\n",
       "    </tr>\n",
       "    <tr>\n",
       "      <th>2023-04-12 10:10:24.980669</th>\n",
       "      <td>18FEDF00</td>\n",
       "      <td>FF8025FFFFFFFFFF</td>\n",
       "      <td>65247</td>\n",
       "      <td>0</td>\n",
       "      <td>255</td>\n",
       "      <td>6</td>\n",
       "    </tr>\n",
       "    <tr>\n",
       "      <th>2023-04-12 10:10:24.980080</th>\n",
       "      <td>0CF00400</td>\n",
       "      <td>F0FF8C6425FFFCFF</td>\n",
       "      <td>61444</td>\n",
       "      <td>0</td>\n",
       "      <td>255</td>\n",
       "      <td>3</td>\n",
       "    </tr>\n",
       "  </tbody>\n",
       "</table>\n",
       "</div>"
      ],
      "text/plain": [
       "                              can_id           payload    pgn   sa   da  pri\n",
       "ts                                                                          \n",
       "2023-04-12 10:10:24.995672  0CFDD6D5  01000100FFFFFFFF  64982  213  255    3\n",
       "2023-04-12 10:10:24.990069  18FEEF00  34FFFF00FFFFFFFF  65263    0  255    6\n",
       "2023-04-12 10:10:24.985513  0CFDD8C9  01000100FFFFFFFF  64984  201  255    3\n",
       "2023-04-12 10:10:24.980669  18FEDF00  FF8025FFFFFFFFFF  65247    0  255    6\n",
       "2023-04-12 10:10:24.980080  0CF00400  F0FF8C6425FFFCFF  61444    0  255    3"
      ]
     },
     "execution_count": 23,
     "metadata": {},
     "output_type": "execute_result"
    }
   ],
   "source": [
    "can_log_f.head()"
   ]
  },
  {
   "cell_type": "code",
   "execution_count": 24,
   "metadata": {},
   "outputs": [],
   "source": [
    "can_log_p = can_log_f.drop(columns=['can_id'])"
   ]
  },
  {
   "cell_type": "code",
   "execution_count": 25,
   "metadata": {},
   "outputs": [],
   "source": [
    "if SINGLE:\n",
    "    pass\n",
    "else:\n",
    "    doi = ['2019-07-12', \\\n",
    "          '2019-07-13', \\\n",
    "          '2019-07-14', \\\n",
    "          '2019-07-15', \\\n",
    "          '2019-07-16', \\\n",
    "          '2019-07-17', \\\n",
    "          '2019-07-18', \\\n",
    "          '2019-07-19', \\\n",
    "          '2019-07-20', \\\n",
    "          '2019-07-21', \\\n",
    "          '2019-07-22', \\\n",
    "          '2019-07-23', \\\n",
    "          '2019-07-24', \\\n",
    "          '2019-07-25']\n",
    "\n",
    "    t_start = '01:00:00'\n",
    "    t_end = '23:59:59'"
   ]
  },
  {
   "cell_type": "code",
   "execution_count": 26,
   "metadata": {},
   "outputs": [],
   "source": [
    "if SINGLE:\n",
    "    can_log_p.to_hdf(H5_PATH + H5_NAME, key='df', mode='w')\n",
    "else:\n",
    "    pass #TODO: fix to_hdf path\n",
    "    for d in tqdm(doi):\n",
    "        c = can_log_p.loc[(d + ' ' + t_start):(d + ' ' + t_end), :]\n",
    "        if c.empty:\n",
    "            continue\n",
    "        c.to_hdf('../data/jkwh-290-' + d + '.h5', key='df', mode='w')"
   ]
  },
  {
   "cell_type": "code",
   "execution_count": 27,
   "metadata": {},
   "outputs": [],
   "source": [
    "### FINISH RAW CSV TO H5 CONVERSION ###"
   ]
  },
  {
   "cell_type": "code",
   "execution_count": 28,
   "metadata": {},
   "outputs": [],
   "source": [
    "### BEGIN H5 TO EXCEL CSV FILE CONVERSION ###"
   ]
  },
  {
   "cell_type": "code",
   "execution_count": 29,
   "metadata": {},
   "outputs": [],
   "source": [
    "h5_log = pd.read_hdf(H5_PATH + H5_NAME)"
   ]
  },
  {
   "cell_type": "code",
   "execution_count": 30,
   "metadata": {},
   "outputs": [
    {
     "data": {
      "text/html": [
       "<div>\n",
       "<style scoped>\n",
       "    .dataframe tbody tr th:only-of-type {\n",
       "        vertical-align: middle;\n",
       "    }\n",
       "\n",
       "    .dataframe tbody tr th {\n",
       "        vertical-align: top;\n",
       "    }\n",
       "\n",
       "    .dataframe thead th {\n",
       "        text-align: right;\n",
       "    }\n",
       "</style>\n",
       "<table border=\"1\" class=\"dataframe\">\n",
       "  <thead>\n",
       "    <tr style=\"text-align: right;\">\n",
       "      <th></th>\n",
       "      <th>payload</th>\n",
       "      <th>pgn</th>\n",
       "      <th>sa</th>\n",
       "      <th>da</th>\n",
       "      <th>pri</th>\n",
       "    </tr>\n",
       "    <tr>\n",
       "      <th>ts</th>\n",
       "      <th></th>\n",
       "      <th></th>\n",
       "      <th></th>\n",
       "      <th></th>\n",
       "      <th></th>\n",
       "    </tr>\n",
       "  </thead>\n",
       "  <tbody>\n",
       "    <tr>\n",
       "      <th>2023-04-12 10:10:24.995672</th>\n",
       "      <td>01000100FFFFFFFF</td>\n",
       "      <td>64982</td>\n",
       "      <td>213</td>\n",
       "      <td>255</td>\n",
       "      <td>3</td>\n",
       "    </tr>\n",
       "    <tr>\n",
       "      <th>2023-04-12 10:10:24.990069</th>\n",
       "      <td>34FFFF00FFFFFFFF</td>\n",
       "      <td>65263</td>\n",
       "      <td>0</td>\n",
       "      <td>255</td>\n",
       "      <td>6</td>\n",
       "    </tr>\n",
       "    <tr>\n",
       "      <th>2023-04-12 10:10:24.985513</th>\n",
       "      <td>01000100FFFFFFFF</td>\n",
       "      <td>64984</td>\n",
       "      <td>201</td>\n",
       "      <td>255</td>\n",
       "      <td>3</td>\n",
       "    </tr>\n",
       "    <tr>\n",
       "      <th>2023-04-12 10:10:24.980669</th>\n",
       "      <td>FF8025FFFFFFFFFF</td>\n",
       "      <td>65247</td>\n",
       "      <td>0</td>\n",
       "      <td>255</td>\n",
       "      <td>6</td>\n",
       "    </tr>\n",
       "    <tr>\n",
       "      <th>2023-04-12 10:10:24.980080</th>\n",
       "      <td>F0FF8C6425FFFCFF</td>\n",
       "      <td>61444</td>\n",
       "      <td>0</td>\n",
       "      <td>255</td>\n",
       "      <td>3</td>\n",
       "    </tr>\n",
       "  </tbody>\n",
       "</table>\n",
       "</div>"
      ],
      "text/plain": [
       "                                     payload    pgn   sa   da  pri\n",
       "ts                                                                \n",
       "2023-04-12 10:10:24.995672  01000100FFFFFFFF  64982  213  255    3\n",
       "2023-04-12 10:10:24.990069  34FFFF00FFFFFFFF  65263    0  255    6\n",
       "2023-04-12 10:10:24.985513  01000100FFFFFFFF  64984  201  255    3\n",
       "2023-04-12 10:10:24.980669  FF8025FFFFFFFFFF  65247    0  255    6\n",
       "2023-04-12 10:10:24.980080  F0FF8C6425FFFCFF  61444    0  255    3"
      ]
     },
     "execution_count": 30,
     "metadata": {},
     "output_type": "execute_result"
    }
   ],
   "source": [
    "h5_log.head()"
   ]
  },
  {
   "cell_type": "code",
   "execution_count": 31,
   "metadata": {},
   "outputs": [],
   "source": [
    "h5_log['ts'] = h5_log.index"
   ]
  },
  {
   "cell_type": "code",
   "execution_count": 32,
   "metadata": {},
   "outputs": [
    {
     "data": {
      "text/html": [
       "<div>\n",
       "<style scoped>\n",
       "    .dataframe tbody tr th:only-of-type {\n",
       "        vertical-align: middle;\n",
       "    }\n",
       "\n",
       "    .dataframe tbody tr th {\n",
       "        vertical-align: top;\n",
       "    }\n",
       "\n",
       "    .dataframe thead th {\n",
       "        text-align: right;\n",
       "    }\n",
       "</style>\n",
       "<table border=\"1\" class=\"dataframe\">\n",
       "  <thead>\n",
       "    <tr style=\"text-align: right;\">\n",
       "      <th></th>\n",
       "      <th>payload</th>\n",
       "      <th>pgn</th>\n",
       "      <th>sa</th>\n",
       "      <th>da</th>\n",
       "      <th>pri</th>\n",
       "      <th>ts</th>\n",
       "    </tr>\n",
       "    <tr>\n",
       "      <th>ts</th>\n",
       "      <th></th>\n",
       "      <th></th>\n",
       "      <th></th>\n",
       "      <th></th>\n",
       "      <th></th>\n",
       "      <th></th>\n",
       "    </tr>\n",
       "  </thead>\n",
       "  <tbody>\n",
       "    <tr>\n",
       "      <th>2023-04-12 10:10:24.995672</th>\n",
       "      <td>01000100FFFFFFFF</td>\n",
       "      <td>64982</td>\n",
       "      <td>213</td>\n",
       "      <td>255</td>\n",
       "      <td>3</td>\n",
       "      <td>2023-04-12 10:10:24.995672</td>\n",
       "    </tr>\n",
       "    <tr>\n",
       "      <th>2023-04-12 10:10:24.990069</th>\n",
       "      <td>34FFFF00FFFFFFFF</td>\n",
       "      <td>65263</td>\n",
       "      <td>0</td>\n",
       "      <td>255</td>\n",
       "      <td>6</td>\n",
       "      <td>2023-04-12 10:10:24.990069</td>\n",
       "    </tr>\n",
       "    <tr>\n",
       "      <th>2023-04-12 10:10:24.985513</th>\n",
       "      <td>01000100FFFFFFFF</td>\n",
       "      <td>64984</td>\n",
       "      <td>201</td>\n",
       "      <td>255</td>\n",
       "      <td>3</td>\n",
       "      <td>2023-04-12 10:10:24.985513</td>\n",
       "    </tr>\n",
       "    <tr>\n",
       "      <th>2023-04-12 10:10:24.980669</th>\n",
       "      <td>FF8025FFFFFFFFFF</td>\n",
       "      <td>65247</td>\n",
       "      <td>0</td>\n",
       "      <td>255</td>\n",
       "      <td>6</td>\n",
       "      <td>2023-04-12 10:10:24.980669</td>\n",
       "    </tr>\n",
       "    <tr>\n",
       "      <th>2023-04-12 10:10:24.980080</th>\n",
       "      <td>F0FF8C6425FFFCFF</td>\n",
       "      <td>61444</td>\n",
       "      <td>0</td>\n",
       "      <td>255</td>\n",
       "      <td>3</td>\n",
       "      <td>2023-04-12 10:10:24.980080</td>\n",
       "    </tr>\n",
       "  </tbody>\n",
       "</table>\n",
       "</div>"
      ],
      "text/plain": [
       "                                     payload    pgn   sa   da  pri  \\\n",
       "ts                                                                   \n",
       "2023-04-12 10:10:24.995672  01000100FFFFFFFF  64982  213  255    3   \n",
       "2023-04-12 10:10:24.990069  34FFFF00FFFFFFFF  65263    0  255    6   \n",
       "2023-04-12 10:10:24.985513  01000100FFFFFFFF  64984  201  255    3   \n",
       "2023-04-12 10:10:24.980669  FF8025FFFFFFFFFF  65247    0  255    6   \n",
       "2023-04-12 10:10:24.980080  F0FF8C6425FFFCFF  61444    0  255    3   \n",
       "\n",
       "                                                   ts  \n",
       "ts                                                     \n",
       "2023-04-12 10:10:24.995672 2023-04-12 10:10:24.995672  \n",
       "2023-04-12 10:10:24.990069 2023-04-12 10:10:24.990069  \n",
       "2023-04-12 10:10:24.985513 2023-04-12 10:10:24.985513  \n",
       "2023-04-12 10:10:24.980669 2023-04-12 10:10:24.980669  \n",
       "2023-04-12 10:10:24.980080 2023-04-12 10:10:24.980080  "
      ]
     },
     "execution_count": 32,
     "metadata": {},
     "output_type": "execute_result"
    }
   ],
   "source": [
    "h5_log.head()"
   ]
  },
  {
   "cell_type": "code",
   "execution_count": 33,
   "metadata": {},
   "outputs": [],
   "source": [
    "h5_log['ts'] = h5_log['ts'].apply(lambda x: x.timestamp())"
   ]
  },
  {
   "cell_type": "code",
   "execution_count": 34,
   "metadata": {},
   "outputs": [],
   "source": [
    "h5_log.to_csv(EXCEL_CSV_PATH + EXCEL_CSV_NAME, index=False)"
   ]
  },
  {
   "cell_type": "code",
   "execution_count": 35,
   "metadata": {},
   "outputs": [],
   "source": [
    "## END H5 TO EXCEL CSV CONVERSION ##"
   ]
  },
  {
   "cell_type": "code",
   "execution_count": 36,
   "metadata": {},
   "outputs": [],
   "source": [
    "## BEGIN DATA VALIDATION ##"
   ]
  },
  {
   "cell_type": "code",
   "execution_count": 37,
   "metadata": {},
   "outputs": [],
   "source": [
    "can_log = pd.read_hdf(H5_PATH + H5_NAME)"
   ]
  },
  {
   "cell_type": "code",
   "execution_count": 38,
   "metadata": {},
   "outputs": [],
   "source": [
    "pgns = {\n",
    "    61444: {'bytes': list(range(32,40)) + list(range(24,32)), 'offset': 0, 'resolution': 0.125, 'name': 'Engine RPM', 'unit': 'RPM'},\n",
    "    65266: {'bytes': list(range(8,16)) + list(range(0,8)), 'offset': 0, 'resolution': 0.05, 'name': 'Fuel Rate', 'unit': 'L/h'},\n",
    "    65128: {'bytes': range(0,8), 'offset': -40.0, 'resolution': 1.0, 'name': 'Hydraulic Temp', 'unit': 'degree C'}}"
   ]
  },
  {
   "cell_type": "code",
   "execution_count": 39,
   "metadata": {},
   "outputs": [],
   "source": [
    "def hex2bin(hex_str):\n",
    "    scale = 16 # equals to hexadecimal\n",
    "    num_of_bits = 64\n",
    "    return str(bin(int(hex_str, scale))[2:].zfill(num_of_bits))\n",
    "\n",
    "def map2col(n, payload_bin_str):\n",
    "    bin_vals = list(payload_bin_str)\n",
    "    return bin_vals[n]"
   ]
  },
  {
   "cell_type": "code",
   "execution_count": 40,
   "metadata": {},
   "outputs": [
    {
     "name": "stdout",
     "output_type": "stream",
     "text": [
      "Working on PGN 61444\n",
      "Mapping ...\n",
      "Done\n",
      "Working on PGN 65266\n",
      "Mapping ...\n",
      "Done\n",
      "Working on PGN 65128\n",
      "Mapping ...\n",
      "Done\n"
     ]
    },
    {
     "data": {
      "image/png": "[encoded data removed]",
      "text/plain": [
       "<Figure size 1000x300 with 1 Axes>"
      ]
     },
     "metadata": {},
     "output_type": "display_data"
    },
    {
     "data": {
      "image/png": "[encoded data removed]",
      "text/plain": [
       "<Figure size 1000x300 with 1 Axes>"
      ]
     },
     "metadata": {},
     "output_type": "display_data"
    },
    {
     "data": {
      "image/png": "[encoded data removed]",
      "text/plain": [
       "<Figure size 1000x300 with 1 Axes>"
      ]
     },
     "metadata": {},
     "output_type": "display_data"
    }
   ],
   "source": [
    "for pgn, d in pgns.items():\n",
    "    print('Working on PGN {}'.format(pgn))\n",
    "    log_f = can_log[can_log['pgn'] == pgn]\n",
    "    bins = log_f['payload'].apply(lambda x: hex2bin(x))\n",
    "    bins_col = pd.DataFrame()\n",
    "    print('Mapping ...')\n",
    "    for n in range(64):\n",
    "        bins_col[n] = bins.apply(lambda x: map2col(n, x))\n",
    "    print('Done')\n",
    "    bins_col = bins_col.astype(int)\n",
    "    s_dec = bins_col[d['bytes']].astype(str).apply(lambda x: int((''.join(x)), 2) * d['resolution'] + d['offset'], axis=1)\n",
    "#     s_dec_s = s_dec.resample('1s').mean()\n",
    "    fig, ax = plt.subplots(figsize=(10,3))\n",
    "    ax.plot(s_dec.index, s_dec.values)\n",
    "    fig.autofmt_xdate()\n",
    "    ax.xaxis.set_major_formatter(dates.DateFormatter(\"%H:%M:%S\"))\n",
    "    ax.set_xlabel('Local Time')\n",
    "    ax.set_ylabel('{} ({})'.format(d['name'], d['unit']))\n",
    "    #ax.set_xlim(left=pd.Timestamp(\"2021-11-11 15:50:00\"), right=pd.Timestamp(\"2021-11-11 15:56:00\"))"
   ]
  },
  {
   "cell_type": "code",
   "execution_count": null,
   "metadata": {},
   "outputs": [],
   "source": []
  }
 ],
 "metadata": {
  "kernelspec": {
   "display_name": "Python 3 (ipykernel)",
   "language": "python",
   "name": "python3"
  },
  "language_info": {
   "codemirror_mode": {
    "name": "ipython",
    "version": 3
   },
   "file_extension": ".py",
   "mimetype": "text/x-python",
   "name": "python",
   "nbconvert_exporter": "python",
   "pygments_lexer": "ipython3",
   "version": "3.9.7"
  }
 },
 "nbformat": 4,
 "nbformat_minor": 4
}
